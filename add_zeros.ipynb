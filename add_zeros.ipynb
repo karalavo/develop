{
  "nbformat": 4,
  "nbformat_minor": 0,
  "metadata": {
    "colab": {
      "provenance": [],
      "authorship_tag": "ABX9TyMuEvMDctdQ2tKxdx+EUhvU",
      "include_colab_link": true
    },
    "kernelspec": {
      "name": "python3",
      "display_name": "Python 3"
    },
    "language_info": {
      "name": "python"
    }
  },
  "cells": [
    {
      "cell_type": "markdown",
      "metadata": {
        "id": "view-in-github",
        "colab_type": "text"
      },
      "source": [
        "<a href=\"https://colab.research.google.com/github/karalavo/develop/blob/main/add_zeros.ipynb\" target=\"_parent\"><img src=\"https://colab.research.google.com/assets/colab-badge.svg\" alt=\"Open In Colab\"/></a>"
      ]
    },
    {
      "cell_type": "markdown",
      "source": [
        "## Add zeros\n",
        "\n",
        "`numpy`\n",
        "\n",
        "### Условие\n",
        "Реализуйте функцию, которая на вход принимает вектор ```x```, а возвращает вектор со вставленными нулями между числами.\n",
        "\n",
        "Например, из ```[1, -5, 3]``` получить ```[1, 0, -5, 0, 3]```\n",
        "\n",
        "### Замечания\n",
        "\n",
        "* нельзя использовать циклы (ключевые слова for и while), list comprehension, map и т.п.\n"
      ],
      "metadata": {
        "id": "_C7Nf95Z8gu2"
      }
    },
    {
      "cell_type": "code",
      "execution_count": 24,
      "metadata": {
        "id": "IKSkYAcXYiWv"
      },
      "outputs": [],
      "source": [
        "import typing as tp\n",
        "import numpy as np\n",
        "import dataclasses\n",
        "import pytest\n",
        "from numpy.testing import assert_array_equal"
      ]
    },
    {
      "cell_type": "code",
      "source": [
        "def max_element(array: np.ndarray) -> tp.Optional[float]:\n",
        "    array_trans = array.T\n",
        "    array_zero = np.zeros_like(array_trans)\n",
        "    duo_matrix = np.column_stack((array_trans, array_zero)).ravel()\n",
        "    return duo_matrix[:-1]\n",
        "\n",
        "max_element(np.zeros(10))"
      ],
      "metadata": {
        "colab": {
          "base_uri": "https://localhost:8080/"
        },
        "id": "m7TKJ8lGYvJ_",
        "outputId": "a44bf472-a082-460e-b860-a73505c365f9"
      },
      "execution_count": 22,
      "outputs": [
        {
          "output_type": "execute_result",
          "data": {
            "text/plain": [
              "array([0., 0., 0., 0., 0., 0., 0., 0., 0., 0., 0., 0., 0., 0., 0., 0., 0.,\n",
              "       0., 0.])"
            ]
          },
          "metadata": {},
          "execution_count": 22
        }
      ]
    },
    {
      "cell_type": "code",
      "source": [
        "@dataclasses.dataclass\n",
        "class AddZerosCase:\n",
        "    array: np.ndarray\n",
        "    result: np.ndarray\n",
        "\n",
        "\n",
        "ADD_ZEROS_TEST_CASES = [\n",
        "    AddZerosCase(\n",
        "        array=np.array([1, 2, 3]),\n",
        "        result=np.array([1, 0, 2, 0, 3])),\n",
        "    AddZerosCase(\n",
        "        array=np.array([]),\n",
        "        result=np.array([])),\n",
        "    AddZerosCase(\n",
        "        array=np.array([1]),\n",
        "        result=np.array([1])),\n",
        "    AddZerosCase(\n",
        "        array=np.array([1, 1]),\n",
        "        result=np.array([1, 0, 1])),\n",
        "    AddZerosCase(\n",
        "        array=np.array([0]),\n",
        "        result=np.array([0])),\n",
        "    AddZerosCase(\n",
        "        array=np.array([1, 0, 0, 1]),\n",
        "        result=np.array([1, 0, 0, 0, 0, 0, 1])),\n",
        "    AddZerosCase(\n",
        "        array=np.zeros(10),\n",
        "        result=np.zeros(19)),\n",
        "]\n",
        "\n",
        "\n",
        "@pytest.mark.parametrize('t', ADD_ZEROS_TEST_CASES, ids=str)\n",
        "def test_construct_matrix(t: AddZerosCase) -> None:\n",
        "    assert_array_equal(add_zeros(t.array), t.result)"
      ],
      "metadata": {
        "id": "bersAMZs9-cj"
      },
      "execution_count": 25,
      "outputs": []
    }
  ]
}