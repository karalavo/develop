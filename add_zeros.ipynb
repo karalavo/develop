{
  "nbformat": 4,
  "nbformat_minor": 0,
  "metadata": {
    "colab": {
      "provenance": [],
      "authorship_tag": "ABX9TyMN/P8joXdqq9WSY5u+Sujh",
      "include_colab_link": true
    },
    "kernelspec": {
      "name": "python3",
      "display_name": "Python 3"
    },
    "language_info": {
      "name": "python"
    }
  },
  "cells": [
    {
      "cell_type": "markdown",
      "metadata": {
        "id": "view-in-github",
        "colab_type": "text"
      },
      "source": [
        "<a href=\"https://colab.research.google.com/github/karalavo/develop/blob/main/add_zeros.ipynb\" target=\"_parent\"><img src=\"https://colab.research.google.com/assets/colab-badge.svg\" alt=\"Open In Colab\"/></a>"
      ]
    },
    {
      "cell_type": "markdown",
      "source": [
        "## Add zeros\n",
        "\n",
        "`numpy`\n",
        "\n",
        "### Условие\n",
        "Реализуйте функцию, которая на вход принимает вектор ```x```, а возвращает вектор со вставленными нулями между числами.\n",
        "\n",
        "Например, из ```[1, -5, 3]``` получить ```[1, 0, -5, 0, 3]```\n",
        "\n",
        "### Замечания\n",
        "\n",
        "* нельзя использовать циклы (ключевые слова for и while), list comprehension, map и т.п.\n"
      ],
      "metadata": {
        "id": "_C7Nf95Z8gu2"
      }
    },
    {
      "cell_type": "code",
      "execution_count": null,
      "metadata": {
        "id": "IKSkYAcXYiWv"
      },
      "outputs": [],
      "source": [
        "import typing as tp\n",
        "import numpy as np"
      ]
    },
    {
      "cell_type": "code",
      "source": [
        "def add_zeros(array: np.ndarray) -> tp.Optional[float]:\n",
        "    array_trans = array.T\n",
        "    array_zero = np.zeros_like(array_trans)\n",
        "    duo_matrix = np.column_stack((array_trans, array_zero)).ravel()\n",
        "    return duo_matrix[:-1]"
      ],
      "metadata": {
        "id": "m7TKJ8lGYvJ_"
      },
      "execution_count": 4,
      "outputs": []
    },
    {
      "cell_type": "code",
      "source": [
        "print(add_zeros(array=np.array([1, 2, 3])))\n",
        "print(add_zeros(array=np.array([])))\n",
        "print(add_zeros(array=np.array([1])))\n",
        "print(add_zeros(array=np.array([1, 1])))\n",
        "print(add_zeros(array=np.array([0])))\n",
        "print(add_zeros(array=np.array([1, 0, 0, 1])))\n",
        "print(add_zeros(array=np.zeros(10)))"
      ],
      "metadata": {
        "id": "bersAMZs9-cj",
        "colab": {
          "base_uri": "https://localhost:8080/"
        },
        "outputId": "6fdb4446-b92f-4147-f3f8-3b80953ba080"
      },
      "execution_count": 5,
      "outputs": [
        {
          "output_type": "stream",
          "name": "stdout",
          "text": [
            "[1 0 2 0 3]\n",
            "[]\n",
            "[1]\n",
            "[1 0 1]\n",
            "[0]\n",
            "[1 0 0 0 0 0 1]\n",
            "[0. 0. 0. 0. 0. 0. 0. 0. 0. 0. 0. 0. 0. 0. 0. 0. 0. 0. 0.]\n"
          ]
        }
      ]
    }
  ]
}