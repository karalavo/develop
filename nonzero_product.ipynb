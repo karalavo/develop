{
  "nbformat": 4,
  "nbformat_minor": 0,
  "metadata": {
    "colab": {
      "provenance": [],
      "authorship_tag": "ABX9TyNIB5K5HpgWBq9iYblu3ctX",
      "include_colab_link": true
    },
    "kernelspec": {
      "name": "python3",
      "display_name": "Python 3"
    },
    "language_info": {
      "name": "python"
    }
  },
  "cells": [
    {
      "cell_type": "markdown",
      "metadata": {
        "id": "view-in-github",
        "colab_type": "text"
      },
      "source": [
        "<a href=\"https://colab.research.google.com/github/karalavo/develop/blob/main/nonzero_product.ipynb\" target=\"_parent\"><img src=\"https://colab.research.google.com/assets/colab-badge.svg\" alt=\"Open In Colab\"/></a>"
      ]
    },
    {
      "cell_type": "markdown",
      "source": [
        "## Nonzero product\n",
        "\n",
        "`numpy`\n",
        "\n",
        "### Условие\n",
        "Реализуйте функцию для подсчёта произведения ненулевых элементов на диагонали прямоугольной матрицы\n",
        "\n",
        "Например, для ```X = np.array([[1, 0, 1], [2, 0, 2], [3, 0, 3], [4, 4, 4]])``` ответом является 3.\n",
        "Если ненулевых элементов нет, функция должна возвращать ```None```.\n",
        "\n",
        "### Замечания\n",
        "\n",
        "* нельзя использовать циклы (ключевые слова for и while), list comprehension, map и т.п.\n",
        "* под матрицей понимается двумерный numpy.array"
      ],
      "metadata": {
        "id": "g7DLxDrz3BP0"
      }
    },
    {
      "cell_type": "code",
      "execution_count": 14,
      "metadata": {
        "id": "XxBNiVZ52_lP"
      },
      "outputs": [],
      "source": [
        "import typing as tp\n",
        "\n",
        "import numpy as np\n",
        "\n",
        "\n",
        "def nonzero_product(matrix: np.ndarray) -> tp.Optional[float]:\n",
        "  diagonal = matrix.diagonal() if matrix.ravel().size > 0 else 0\n",
        "  return np.prod(diagonal[diagonal != 0]) if np.max(diagonal)  else None\n"
      ]
    },
    {
      "cell_type": "code",
      "source": [
        "print(nonzero_product(matrix=np.array([[1, 0, 1], [2, 0, 2], [3, 0, 3], [4, 4, 4]])) == 3)\n",
        "print(nonzero_product(matrix=np.array([[0, 0, 1], [2, 0, 2], [3, 0, 0], [4, 4, 4]])) == None)\n",
        "print(nonzero_product(matrix=np.array([[], [], [], []])) == None)\n",
        "print(nonzero_product(matrix=np.arange(24).reshape((4, 6))) == 2058)\n",
        "print(nonzero_product(matrix=np.ones(48).reshape((12, 4))) == 1)\n",
        "print(nonzero_product(matrix=np.zeros(48).reshape((12, 4))) == None)\n",
        "print(nonzero_product(matrix=np.array([[1]])) ==1)\n",
        "print(nonzero_product(matrix=np.array([[0]])) ==None)\n",
        "print(nonzero_product(matrix=np.array([[1, 1, 1], [1, 0, 1], [1, 1, 1]])) == 1)"
      ],
      "metadata": {
        "colab": {
          "base_uri": "https://localhost:8080/"
        },
        "id": "pu0GcqP63B7D",
        "outputId": "b5b97f93-dd9d-455f-8961-4ae444cefe78"
      },
      "execution_count": 15,
      "outputs": [
        {
          "output_type": "stream",
          "name": "stdout",
          "text": [
            "True\n",
            "True\n",
            "True\n",
            "True\n",
            "True\n",
            "True\n",
            "True\n",
            "True\n",
            "True\n"
          ]
        }
      ]
    }
  ]
}