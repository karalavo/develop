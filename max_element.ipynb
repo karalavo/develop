{
  "nbformat": 4,
  "nbformat_minor": 0,
  "metadata": {
    "colab": {
      "provenance": [],
      "authorship_tag": "ABX9TyMUOLmDmJQRxLNs4esVpS70",
      "include_colab_link": true
    },
    "kernelspec": {
      "name": "python3",
      "display_name": "Python 3"
    },
    "language_info": {
      "name": "python"
    }
  },
  "cells": [
    {
      "cell_type": "markdown",
      "metadata": {
        "id": "view-in-github",
        "colab_type": "text"
      },
      "source": [
        "<a href=\"https://colab.research.google.com/github/karalavo/develop/blob/main/max_element.ipynb\" target=\"_parent\"><img src=\"https://colab.research.google.com/assets/colab-badge.svg\" alt=\"Open In Colab\"/></a>"
      ]
    },
    {
      "cell_type": "markdown",
      "source": [
        "## Max element\n",
        "\n",
        "`numpy`\n",
        "\n",
        "### Условие\n",
        "\n",
        "Реализуйте функцию, возвращающую максимальный элемент в массиве ```X``` среди элементов, перед которыми стоит нулевой.\n",
        "\n",
        "Например, для ```X = np.array([6, 2, 0, 3, 0, 0, 5, 7, 0])``` ответом является 5.\n",
        "Если подходящих элементов нет, функция должна возвращать ```None```.\n",
        "\n",
        "### Замечания\n",
        "\n",
        "* нельзя использовать циклы (ключевые слова for и while), list comprehension, map и т.п.\n",
        "* под матрицей понимается одномерный numpy.array\n"
      ],
      "metadata": {
        "id": "cnhfziaV-vXs"
      }
    },
    {
      "cell_type": "code",
      "source": [
        "import typing as tp\n",
        "import numpy as np\n",
        "\n"
      ],
      "metadata": {
        "id": "ZgU6FXTz-wwU"
      },
      "execution_count": null,
      "outputs": []
    },
    {
      "cell_type": "code",
      "source": [
        "def max_element(array: np.ndarray) -> tp.Optional[float]:\n",
        "  indices = np.where(np.roll(array, 1) == 0)[0]\n",
        "  if indices.size > 0 and np.min(indices) == 0:\n",
        "    indices = indices[1:]\n",
        "  result = array[indices]\n",
        "  return np.max(result) if len(result) else None\n"
      ],
      "metadata": {
        "id": "S88aflJt_AAz"
      },
      "execution_count": null,
      "outputs": []
    },
    {
      "cell_type": "code",
      "source": [
        "print(max_element(np.array([6, 6])))"
      ],
      "metadata": {
        "colab": {
          "base_uri": "https://localhost:8080/"
        },
        "id": "tqSZ-YucUjX0",
        "outputId": "a44458a4-5d6d-40b1-92a5-6b605628c85f"
      },
      "execution_count": null,
      "outputs": [
        {
          "output_type": "stream",
          "name": "stdout",
          "text": [
            "None\n"
          ]
        }
      ]
    },
    {
      "cell_type": "code",
      "source": [
        "print(max_element(array=np.array([1, 0, 2, 3])))\n",
        "print(max_element(array=np.array([6, 2, 0, 3, 0, 0, 5, 7, 0])))\n",
        "print(max_element(array=np.array([6, 6])))\n",
        "print(max_element(array=np.zeros(3)))\n",
        "print(max_element(array=np.array([0, 1])))\n",
        "print(max_element(array=np.array([1, 0])))\n",
        "print(max_element(array=np.array([1, 0, 0, -1])))\n",
        "print(max_element(array=np.array([0])))\n",
        "print(max_element(array=np.array([1])))\n",
        "print(max_element(array=np.array([0, 1, 2, 0, 10])))\n",
        "print(max_element(array=np.array([6, 2, 0, 3, 0, 0, 9, 4])))"
      ],
      "metadata": {
        "id": "LJfbvEHnUwcX",
        "colab": {
          "base_uri": "https://localhost:8080/"
        },
        "outputId": "a74d682a-6f20-4a76-a506-4f06f50f7c08"
      },
      "execution_count": null,
      "outputs": [
        {
          "output_type": "stream",
          "name": "stdout",
          "text": [
            "2\n",
            "5\n",
            "None\n",
            "0.0\n",
            "1\n",
            "None\n",
            "0\n",
            "None\n",
            "None\n",
            "10\n",
            "9\n"
          ]
        }
      ]
    },
    {
      "cell_type": "code",
      "source": [],
      "metadata": {
        "id": "5Newjo4XGIYR"
      },
      "execution_count": null,
      "outputs": []
    }
  ]
}