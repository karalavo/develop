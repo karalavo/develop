{
  "nbformat": 4,
  "nbformat_minor": 0,
  "metadata": {
    "colab": {
      "provenance": [],
      "authorship_tag": "ABX9TyMICRx1Ihnziw7Gcp9GAALV",
      "include_colab_link": true
    },
    "kernelspec": {
      "name": "python3",
      "display_name": "Python 3"
    },
    "language_info": {
      "name": "python"
    }
  },
  "cells": [
    {
      "cell_type": "markdown",
      "metadata": {
        "id": "view-in-github",
        "colab_type": "text"
      },
      "source": [
        "<a href=\"https://colab.research.google.com/github/karalavo/develop/blob/main/nearest_value.ipynb\" target=\"_parent\"><img src=\"https://colab.research.google.com/assets/colab-badge.svg\" alt=\"Open In Colab\"/></a>"
      ]
    },
    {
      "cell_type": "markdown",
      "source": [
        "## Nearest value\n",
        "\n",
        "`numpy`\n",
        "\n",
        "### Условие\n",
        "\n",
        "Реализуйте функцию, принимающую на вход матрицу ```X``` и некоторое число ```a``` и возвращающую ближайший к числу элемент матрицы.\n",
        "\n",
        "Например, для ```X = np.arange(0,10).reshape((2, 5))``` и ```a = 3.6``` ответом будет 4.\n",
        "\n",
        "### Замечания\n",
        "\n",
        "* нельзя использовать циклы (ключевые слова for и while), list comprehension, map и т.п.\n",
        "* под матрицей понимается двумерный numpy.array\n",
        "\n"
      ],
      "metadata": {
        "id": "QGm0IXdhGtH5"
      }
    },
    {
      "cell_type": "code",
      "execution_count": 7,
      "metadata": {
        "id": "IfCro6MYGk7G"
      },
      "outputs": [],
      "source": [
        "import typing as tp\n",
        "\n",
        "import numpy as np\n",
        "\n",
        "\n",
        "def nearest_value(matrix: np.ndarray, value: float) -> tp.Optional[float]:\n",
        "  array = matrix.ravel()\n",
        "  return array[(np.abs(array - value)).argmin()] if array.size > 0 else None\n"
      ]
    },
    {
      "cell_type": "code",
      "source": [
        "print(nearest_value(np.arange(0, 10).reshape((2, 5)),value=3.6))\n",
        "print(nearest_value(matrix=np.arange(0, 10).reshape((5, 2)),value=0.3))\n",
        "print(nearest_value(matrix=np.arange(0, 10).reshape((10, 1)),value=0.6))\n",
        "print(nearest_value(matrix=np.zeros((5, 10)),value=20.0))\n",
        "print(nearest_value(matrix=np.array([[1, 0, 0]]),value=0.9))\n",
        "print(nearest_value(matrix=np.array([[0, 0, 1]]),value=0.9))\n",
        "print(nearest_value(matrix=np.array([[1]]),value=1000000))\n",
        "print(nearest_value(matrix=np.array([[]]),value=0))"
      ],
      "metadata": {
        "colab": {
          "base_uri": "https://localhost:8080/"
        },
        "id": "lbmFuoMRrrpf",
        "outputId": "17ea844b-6dc0-41b8-c9c1-40c936ef366e"
      },
      "execution_count": 8,
      "outputs": [
        {
          "output_type": "stream",
          "name": "stdout",
          "text": [
            "4\n",
            "0\n",
            "1\n",
            "0.0\n",
            "1\n",
            "1\n",
            "1\n",
            "None\n"
          ]
        }
      ]
    },
    {
      "cell_type": "code",
      "source": [],
      "metadata": {
        "id": "4YVu1CHbvdrs"
      },
      "execution_count": null,
      "outputs": []
    }
  ]
}